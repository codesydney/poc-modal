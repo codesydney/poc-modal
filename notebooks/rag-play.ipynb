{
 "cells": [
  {
   "cell_type": "markdown",
   "id": "a39bda69",
   "metadata": {},
   "source": [
    "# RAG System using LlamaIndex and LanceDB\n",
    "\n",
    "This notebook demonstrates how to build a Retrieval-Augmented Generation (RAG) system for question answering on the jp-handbook-full.pdf document using:\n",
    "- LlamaIndex for document processing and querying\n",
    "- LanceDB as the vector store"
   ]
  },
  {
   "cell_type": "markdown",
   "id": "8025f246",
   "metadata": {},
   "source": [
    "## Install Required Dependencies\n",
    "\n",
    "First, let's install the necessary libraries if they aren't already installed."
   ]
  },
  {
   "cell_type": "code",
   "execution_count": 1,
   "id": "71022e93",
   "metadata": {},
   "outputs": [
    {
     "name": "stdout",
     "output_type": "stream",
     "text": [
      "Requirement already satisfied: llama-index in /Users/josereyes/Dev/poc-modal/.venv/lib/python3.12/site-packages (0.12.31)\n",
      "Requirement already satisfied: llama-index-readers-file in /Users/josereyes/Dev/poc-modal/.venv/lib/python3.12/site-packages (0.4.7)\n",
      "Requirement already satisfied: llama-index-llms-google-genai in /Users/josereyes/Dev/poc-modal/.venv/lib/python3.12/site-packages (0.1.7)\n",
      "Requirement already satisfied: llama-index-embeddings-google-genai in /Users/josereyes/Dev/poc-modal/.venv/lib/python3.12/site-packages (0.1.0)\n",
      "Requirement already satisfied: lancedb in /Users/josereyes/Dev/poc-modal/.venv/lib/python3.12/site-packages (0.21.2)\n",
      "Requirement already satisfied: pypdf in /Users/josereyes/Dev/poc-modal/.venv/lib/python3.12/site-packages (5.4.0)\n",
      "Requirement already satisfied: python-dotenv in /Users/josereyes/Dev/poc-modal/.venv/lib/python3.12/site-packages (1.1.0)\n",
      "Requirement already satisfied: google-generativeai in /Users/josereyes/Dev/poc-modal/.venv/lib/python3.12/site-packages (0.8.5)\n",
      "Requirement already satisfied: llama-index-agent-openai<0.5.0,>=0.4.0 in /Users/josereyes/Dev/poc-modal/.venv/lib/python3.12/site-packages (from llama-index) (0.4.6)\n",
      "Requirement already satisfied: llama-index-cli<0.5.0,>=0.4.1 in /Users/josereyes/Dev/poc-modal/.venv/lib/python3.12/site-packages (from llama-index) (0.4.1)\n",
      "Requirement already satisfied: llama-index-core<0.13.0,>=0.12.31 in /Users/josereyes/Dev/poc-modal/.venv/lib/python3.12/site-packages (from llama-index) (0.12.31)\n",
      "Requirement already satisfied: llama-index-embeddings-openai<0.4.0,>=0.3.0 in /Users/josereyes/Dev/poc-modal/.venv/lib/python3.12/site-packages (from llama-index) (0.3.1)\n",
      "Requirement already satisfied: llama-index-indices-managed-llama-cloud>=0.4.0 in /Users/josereyes/Dev/poc-modal/.venv/lib/python3.12/site-packages (from llama-index) (0.6.11)\n",
      "Requirement already satisfied: llama-index-llms-openai<0.4.0,>=0.3.0 in /Users/josereyes/Dev/poc-modal/.venv/lib/python3.12/site-packages (from llama-index) (0.3.37)\n",
      "Requirement already satisfied: llama-index-multi-modal-llms-openai<0.5.0,>=0.4.0 in /Users/josereyes/Dev/poc-modal/.venv/lib/python3.12/site-packages (from llama-index) (0.4.3)\n",
      "Requirement already satisfied: llama-index-program-openai<0.4.0,>=0.3.0 in /Users/josereyes/Dev/poc-modal/.venv/lib/python3.12/site-packages (from llama-index) (0.3.1)\n",
      "Requirement already satisfied: llama-index-question-gen-openai<0.4.0,>=0.3.0 in /Users/josereyes/Dev/poc-modal/.venv/lib/python3.12/site-packages (from llama-index) (0.3.0)\n",
      "Requirement already satisfied: llama-index-readers-llama-parse>=0.4.0 in /Users/josereyes/Dev/poc-modal/.venv/lib/python3.12/site-packages (from llama-index) (0.4.0)\n",
      "Requirement already satisfied: nltk>3.8.1 in /Users/josereyes/Dev/poc-modal/.venv/lib/python3.12/site-packages (from llama-index) (3.9.1)\n",
      "Requirement already satisfied: beautifulsoup4<5.0.0,>=4.12.3 in /Users/josereyes/Dev/poc-modal/.venv/lib/python3.12/site-packages (from llama-index-readers-file) (4.13.4)\n",
      "Requirement already satisfied: pandas in /Users/josereyes/Dev/poc-modal/.venv/lib/python3.12/site-packages (from llama-index-readers-file) (2.2.3)\n",
      "Requirement already satisfied: striprtf<0.0.27,>=0.0.26 in /Users/josereyes/Dev/poc-modal/.venv/lib/python3.12/site-packages (from llama-index-readers-file) (0.0.26)\n",
      "Requirement already satisfied: google-genai>=1.4.0 in /Users/josereyes/Dev/poc-modal/.venv/lib/python3.12/site-packages (from llama-index-llms-google-genai) (1.11.0)\n",
      "Requirement already satisfied: pillow<11.0.0,>=10.2.0 in /Users/josereyes/Dev/poc-modal/.venv/lib/python3.12/site-packages (from llama-index-llms-google-genai) (10.4.0)\n",
      "Requirement already satisfied: deprecation in /Users/josereyes/Dev/poc-modal/.venv/lib/python3.12/site-packages (from lancedb) (2.1.0)\n",
      "Requirement already satisfied: tqdm>=4.27.0 in /Users/josereyes/Dev/poc-modal/.venv/lib/python3.12/site-packages (from lancedb) (4.67.1)\n",
      "Requirement already satisfied: pyarrow>=14 in /Users/josereyes/Dev/poc-modal/.venv/lib/python3.12/site-packages (from lancedb) (19.0.1)\n",
      "Requirement already satisfied: pydantic>=1.10 in /Users/josereyes/Dev/poc-modal/.venv/lib/python3.12/site-packages (from lancedb) (2.11.3)\n",
      "Requirement already satisfied: packaging in /Users/josereyes/Dev/poc-modal/.venv/lib/python3.12/site-packages (from lancedb) (24.2)\n",
      "Requirement already satisfied: overrides>=0.7 in /Users/josereyes/Dev/poc-modal/.venv/lib/python3.12/site-packages (from lancedb) (7.7.0)\n",
      "Requirement already satisfied: google-ai-generativelanguage==0.6.15 in /Users/josereyes/Dev/poc-modal/.venv/lib/python3.12/site-packages (from google-generativeai) (0.6.15)\n",
      "Requirement already satisfied: google-api-core in /Users/josereyes/Dev/poc-modal/.venv/lib/python3.12/site-packages (from google-generativeai) (2.24.2)\n",
      "Requirement already satisfied: google-api-python-client in /Users/josereyes/Dev/poc-modal/.venv/lib/python3.12/site-packages (from google-generativeai) (2.167.0)\n",
      "Requirement already satisfied: google-auth>=2.15.0 in /Users/josereyes/Dev/poc-modal/.venv/lib/python3.12/site-packages (from google-generativeai) (2.39.0)\n",
      "Requirement already satisfied: protobuf in /Users/josereyes/Dev/poc-modal/.venv/lib/python3.12/site-packages (from google-generativeai) (5.29.4)\n",
      "Requirement already satisfied: typing-extensions in /Users/josereyes/Dev/poc-modal/.venv/lib/python3.12/site-packages (from google-generativeai) (4.13.2)\n",
      "Requirement already satisfied: proto-plus<2.0.0dev,>=1.22.3 in /Users/josereyes/Dev/poc-modal/.venv/lib/python3.12/site-packages (from google-ai-generativelanguage==0.6.15->google-generativeai) (1.26.1)\n",
      "Requirement already satisfied: soupsieve>1.2 in /Users/josereyes/Dev/poc-modal/.venv/lib/python3.12/site-packages (from beautifulsoup4<5.0.0,>=4.12.3->llama-index-readers-file) (2.7)\n",
      "Requirement already satisfied: googleapis-common-protos<2.0.0,>=1.56.2 in /Users/josereyes/Dev/poc-modal/.venv/lib/python3.12/site-packages (from google-api-core->google-generativeai) (1.70.0)\n",
      "Requirement already satisfied: requests<3.0.0,>=2.18.0 in /Users/josereyes/Dev/poc-modal/.venv/lib/python3.12/site-packages (from google-api-core->google-generativeai) (2.32.3)\n",
      "Requirement already satisfied: cachetools<6.0,>=2.0.0 in /Users/josereyes/Dev/poc-modal/.venv/lib/python3.12/site-packages (from google-auth>=2.15.0->google-generativeai) (5.5.2)\n",
      "Requirement already satisfied: pyasn1-modules>=0.2.1 in /Users/josereyes/Dev/poc-modal/.venv/lib/python3.12/site-packages (from google-auth>=2.15.0->google-generativeai) (0.4.2)\n",
      "Requirement already satisfied: rsa<5,>=3.1.4 in /Users/josereyes/Dev/poc-modal/.venv/lib/python3.12/site-packages (from google-auth>=2.15.0->google-generativeai) (4.9.1)\n",
      "Requirement already satisfied: anyio<5.0.0,>=4.8.0 in /Users/josereyes/Dev/poc-modal/.venv/lib/python3.12/site-packages (from google-genai>=1.4.0->llama-index-llms-google-genai) (4.9.0)\n",
      "Requirement already satisfied: httpx<1.0.0,>=0.28.1 in /Users/josereyes/Dev/poc-modal/.venv/lib/python3.12/site-packages (from google-genai>=1.4.0->llama-index-llms-google-genai) (0.28.1)\n",
      "Requirement already satisfied: websockets<15.1.0,>=13.0.0 in /Users/josereyes/Dev/poc-modal/.venv/lib/python3.12/site-packages (from google-genai>=1.4.0->llama-index-llms-google-genai) (15.0.1)\n",
      "Requirement already satisfied: openai>=1.14.0 in /Users/josereyes/Dev/poc-modal/.venv/lib/python3.12/site-packages (from llama-index-agent-openai<0.5.0,>=0.4.0->llama-index) (1.75.0)\n",
      "Requirement already satisfied: PyYAML>=6.0.1 in /Users/josereyes/Dev/poc-modal/.venv/lib/python3.12/site-packages (from llama-index-core<0.13.0,>=0.12.31->llama-index) (6.0.2)\n",
      "Requirement already satisfied: SQLAlchemy>=1.4.49 in /Users/josereyes/Dev/poc-modal/.venv/lib/python3.12/site-packages (from SQLAlchemy[asyncio]>=1.4.49->llama-index-core<0.13.0,>=0.12.31->llama-index) (2.0.40)\n",
      "Requirement already satisfied: aiohttp<4.0.0,>=3.8.6 in /Users/josereyes/Dev/poc-modal/.venv/lib/python3.12/site-packages (from llama-index-core<0.13.0,>=0.12.31->llama-index) (3.11.17)\n",
      "Requirement already satisfied: banks<3.0.0,>=2.0.0 in /Users/josereyes/Dev/poc-modal/.venv/lib/python3.12/site-packages (from llama-index-core<0.13.0,>=0.12.31->llama-index) (2.1.2)\n",
      "Requirement already satisfied: dataclasses-json in /Users/josereyes/Dev/poc-modal/.venv/lib/python3.12/site-packages (from llama-index-core<0.13.0,>=0.12.31->llama-index) (0.6.7)\n",
      "Requirement already satisfied: deprecated>=1.2.9.3 in /Users/josereyes/Dev/poc-modal/.venv/lib/python3.12/site-packages (from llama-index-core<0.13.0,>=0.12.31->llama-index) (1.2.18)\n",
      "Requirement already satisfied: dirtyjson<2.0.0,>=1.0.8 in /Users/josereyes/Dev/poc-modal/.venv/lib/python3.12/site-packages (from llama-index-core<0.13.0,>=0.12.31->llama-index) (1.0.8)\n",
      "Requirement already satisfied: filetype<2.0.0,>=1.2.0 in /Users/josereyes/Dev/poc-modal/.venv/lib/python3.12/site-packages (from llama-index-core<0.13.0,>=0.12.31->llama-index) (1.2.0)\n",
      "Requirement already satisfied: fsspec>=2023.5.0 in /Users/josereyes/Dev/poc-modal/.venv/lib/python3.12/site-packages (from llama-index-core<0.13.0,>=0.12.31->llama-index) (2025.3.2)\n",
      "Requirement already satisfied: nest-asyncio<2.0.0,>=1.5.8 in /Users/josereyes/Dev/poc-modal/.venv/lib/python3.12/site-packages (from llama-index-core<0.13.0,>=0.12.31->llama-index) (1.6.0)\n",
      "Requirement already satisfied: networkx>=3.0 in /Users/josereyes/Dev/poc-modal/.venv/lib/python3.12/site-packages (from llama-index-core<0.13.0,>=0.12.31->llama-index) (3.4.2)\n",
      "Requirement already satisfied: numpy in /Users/josereyes/Dev/poc-modal/.venv/lib/python3.12/site-packages (from llama-index-core<0.13.0,>=0.12.31->llama-index) (2.2.5)\n",
      "Requirement already satisfied: tenacity!=8.4.0,<10.0.0,>=8.2.0 in /Users/josereyes/Dev/poc-modal/.venv/lib/python3.12/site-packages (from llama-index-core<0.13.0,>=0.12.31->llama-index) (9.1.2)\n",
      "Requirement already satisfied: tiktoken>=0.3.3 in /Users/josereyes/Dev/poc-modal/.venv/lib/python3.12/site-packages (from llama-index-core<0.13.0,>=0.12.31->llama-index) (0.9.0)\n",
      "Requirement already satisfied: typing-inspect>=0.8.0 in /Users/josereyes/Dev/poc-modal/.venv/lib/python3.12/site-packages (from llama-index-core<0.13.0,>=0.12.31->llama-index) (0.9.0)\n",
      "Requirement already satisfied: wrapt in /Users/josereyes/Dev/poc-modal/.venv/lib/python3.12/site-packages (from llama-index-core<0.13.0,>=0.12.31->llama-index) (1.17.2)\n",
      "Requirement already satisfied: llama-cloud<0.2.0,>=0.1.13 in /Users/josereyes/Dev/poc-modal/.venv/lib/python3.12/site-packages (from llama-index-indices-managed-llama-cloud>=0.4.0->llama-index) (0.1.18)\n",
      "Requirement already satisfied: llama-parse>=0.5.0 in /Users/josereyes/Dev/poc-modal/.venv/lib/python3.12/site-packages (from llama-index-readers-llama-parse>=0.4.0->llama-index) (0.6.12)\n",
      "Requirement already satisfied: click in /Users/josereyes/Dev/poc-modal/.venv/lib/python3.12/site-packages (from nltk>3.8.1->llama-index) (8.1.8)\n",
      "Requirement already satisfied: joblib in /Users/josereyes/Dev/poc-modal/.venv/lib/python3.12/site-packages (from nltk>3.8.1->llama-index) (1.4.2)\n",
      "Requirement already satisfied: regex>=2021.8.3 in /Users/josereyes/Dev/poc-modal/.venv/lib/python3.12/site-packages (from nltk>3.8.1->llama-index) (2024.11.6)\n",
      "Requirement already satisfied: annotated-types>=0.6.0 in /Users/josereyes/Dev/poc-modal/.venv/lib/python3.12/site-packages (from pydantic>=1.10->lancedb) (0.7.0)\n",
      "Requirement already satisfied: pydantic-core==2.33.1 in /Users/josereyes/Dev/poc-modal/.venv/lib/python3.12/site-packages (from pydantic>=1.10->lancedb) (2.33.1)\n",
      "Requirement already satisfied: typing-inspection>=0.4.0 in /Users/josereyes/Dev/poc-modal/.venv/lib/python3.12/site-packages (from pydantic>=1.10->lancedb) (0.4.0)\n",
      "Requirement already satisfied: openai>=1.14.0 in /Users/josereyes/Dev/poc-modal/.venv/lib/python3.12/site-packages (from llama-index-agent-openai<0.5.0,>=0.4.0->llama-index) (1.75.0)\n",
      "Requirement already satisfied: PyYAML>=6.0.1 in /Users/josereyes/Dev/poc-modal/.venv/lib/python3.12/site-packages (from llama-index-core<0.13.0,>=0.12.31->llama-index) (6.0.2)\n",
      "Requirement already satisfied: SQLAlchemy>=1.4.49 in /Users/josereyes/Dev/poc-modal/.venv/lib/python3.12/site-packages (from SQLAlchemy[asyncio]>=1.4.49->llama-index-core<0.13.0,>=0.12.31->llama-index) (2.0.40)\n",
      "Requirement already satisfied: aiohttp<4.0.0,>=3.8.6 in /Users/josereyes/Dev/poc-modal/.venv/lib/python3.12/site-packages (from llama-index-core<0.13.0,>=0.12.31->llama-index) (3.11.17)\n",
      "Requirement already satisfied: banks<3.0.0,>=2.0.0 in /Users/josereyes/Dev/poc-modal/.venv/lib/python3.12/site-packages (from llama-index-core<0.13.0,>=0.12.31->llama-index) (2.1.2)\n",
      "Requirement already satisfied: dataclasses-json in /Users/josereyes/Dev/poc-modal/.venv/lib/python3.12/site-packages (from llama-index-core<0.13.0,>=0.12.31->llama-index) (0.6.7)\n",
      "Requirement already satisfied: deprecated>=1.2.9.3 in /Users/josereyes/Dev/poc-modal/.venv/lib/python3.12/site-packages (from llama-index-core<0.13.0,>=0.12.31->llama-index) (1.2.18)\n",
      "Requirement already satisfied: dirtyjson<2.0.0,>=1.0.8 in /Users/josereyes/Dev/poc-modal/.venv/lib/python3.12/site-packages (from llama-index-core<0.13.0,>=0.12.31->llama-index) (1.0.8)\n",
      "Requirement already satisfied: filetype<2.0.0,>=1.2.0 in /Users/josereyes/Dev/poc-modal/.venv/lib/python3.12/site-packages (from llama-index-core<0.13.0,>=0.12.31->llama-index) (1.2.0)\n",
      "Requirement already satisfied: fsspec>=2023.5.0 in /Users/josereyes/Dev/poc-modal/.venv/lib/python3.12/site-packages (from llama-index-core<0.13.0,>=0.12.31->llama-index) (2025.3.2)\n",
      "Requirement already satisfied: nest-asyncio<2.0.0,>=1.5.8 in /Users/josereyes/Dev/poc-modal/.venv/lib/python3.12/site-packages (from llama-index-core<0.13.0,>=0.12.31->llama-index) (1.6.0)\n",
      "Requirement already satisfied: networkx>=3.0 in /Users/josereyes/Dev/poc-modal/.venv/lib/python3.12/site-packages (from llama-index-core<0.13.0,>=0.12.31->llama-index) (3.4.2)\n",
      "Requirement already satisfied: numpy in /Users/josereyes/Dev/poc-modal/.venv/lib/python3.12/site-packages (from llama-index-core<0.13.0,>=0.12.31->llama-index) (2.2.5)\n",
      "Requirement already satisfied: tenacity!=8.4.0,<10.0.0,>=8.2.0 in /Users/josereyes/Dev/poc-modal/.venv/lib/python3.12/site-packages (from llama-index-core<0.13.0,>=0.12.31->llama-index) (9.1.2)\n",
      "Requirement already satisfied: tiktoken>=0.3.3 in /Users/josereyes/Dev/poc-modal/.venv/lib/python3.12/site-packages (from llama-index-core<0.13.0,>=0.12.31->llama-index) (0.9.0)\n",
      "Requirement already satisfied: typing-inspect>=0.8.0 in /Users/josereyes/Dev/poc-modal/.venv/lib/python3.12/site-packages (from llama-index-core<0.13.0,>=0.12.31->llama-index) (0.9.0)\n",
      "Requirement already satisfied: wrapt in /Users/josereyes/Dev/poc-modal/.venv/lib/python3.12/site-packages (from llama-index-core<0.13.0,>=0.12.31->llama-index) (1.17.2)\n",
      "Requirement already satisfied: llama-cloud<0.2.0,>=0.1.13 in /Users/josereyes/Dev/poc-modal/.venv/lib/python3.12/site-packages (from llama-index-indices-managed-llama-cloud>=0.4.0->llama-index) (0.1.18)\n",
      "Requirement already satisfied: llama-parse>=0.5.0 in /Users/josereyes/Dev/poc-modal/.venv/lib/python3.12/site-packages (from llama-index-readers-llama-parse>=0.4.0->llama-index) (0.6.12)\n",
      "Requirement already satisfied: click in /Users/josereyes/Dev/poc-modal/.venv/lib/python3.12/site-packages (from nltk>3.8.1->llama-index) (8.1.8)\n",
      "Requirement already satisfied: joblib in /Users/josereyes/Dev/poc-modal/.venv/lib/python3.12/site-packages (from nltk>3.8.1->llama-index) (1.4.2)\n",
      "Requirement already satisfied: regex>=2021.8.3 in /Users/josereyes/Dev/poc-modal/.venv/lib/python3.12/site-packages (from nltk>3.8.1->llama-index) (2024.11.6)\n",
      "Requirement already satisfied: annotated-types>=0.6.0 in /Users/josereyes/Dev/poc-modal/.venv/lib/python3.12/site-packages (from pydantic>=1.10->lancedb) (0.7.0)\n",
      "Requirement already satisfied: pydantic-core==2.33.1 in /Users/josereyes/Dev/poc-modal/.venv/lib/python3.12/site-packages (from pydantic>=1.10->lancedb) (2.33.1)\n",
      "Requirement already satisfied: typing-inspection>=0.4.0 in /Users/josereyes/Dev/poc-modal/.venv/lib/python3.12/site-packages (from pydantic>=1.10->lancedb) (0.4.0)\n",
      "Requirement already satisfied: httplib2<1.0.0,>=0.19.0 in /Users/josereyes/Dev/poc-modal/.venv/lib/python3.12/site-packages (from google-api-python-client->google-generativeai) (0.22.0)\n",
      "Requirement already satisfied: google-auth-httplib2<1.0.0,>=0.2.0 in /Users/josereyes/Dev/poc-modal/.venv/lib/python3.12/site-packages (from google-api-python-client->google-generativeai) (0.2.0)\n",
      "Requirement already satisfied: uritemplate<5,>=3.0.1 in /Users/josereyes/Dev/poc-modal/.venv/lib/python3.12/site-packages (from google-api-python-client->google-generativeai) (4.1.1)\n",
      "Requirement already satisfied: python-dateutil>=2.8.2 in /Users/josereyes/Dev/poc-modal/.venv/lib/python3.12/site-packages (from pandas->llama-index-readers-file) (2.9.0.post0)\n",
      "Requirement already satisfied: pytz>=2020.1 in /Users/josereyes/Dev/poc-modal/.venv/lib/python3.12/site-packages (from pandas->llama-index-readers-file) (2025.2)\n",
      "Requirement already satisfied: tzdata>=2022.7 in /Users/josereyes/Dev/poc-modal/.venv/lib/python3.12/site-packages (from pandas->llama-index-readers-file) (2025.2)\n",
      "Requirement already satisfied: aiohappyeyeballs>=2.3.0 in /Users/josereyes/Dev/poc-modal/.venv/lib/python3.12/site-packages (from aiohttp<4.0.0,>=3.8.6->llama-index-core<0.13.0,>=0.12.31->llama-index) (2.6.1)\n",
      "Requirement already satisfied: aiosignal>=1.1.2 in /Users/josereyes/Dev/poc-modal/.venv/lib/python3.12/site-packages (from aiohttp<4.0.0,>=3.8.6->llama-index-core<0.13.0,>=0.12.31->llama-index) (1.3.2)\n",
      "Requirement already satisfied: attrs>=17.3.0 in /Users/josereyes/Dev/poc-modal/.venv/lib/python3.12/site-packages (from aiohttp<4.0.0,>=3.8.6->llama-index-core<0.13.0,>=0.12.31->llama-index) (25.3.0)\n",
      "Requirement already satisfied: frozenlist>=1.1.1 in /Users/josereyes/Dev/poc-modal/.venv/lib/python3.12/site-packages (from aiohttp<4.0.0,>=3.8.6->llama-index-core<0.13.0,>=0.12.31->llama-index) (1.6.0)\n",
      "Requirement already satisfied: multidict<7.0,>=4.5 in /Users/josereyes/Dev/poc-modal/.venv/lib/python3.12/site-packages (from aiohttp<4.0.0,>=3.8.6->llama-index-core<0.13.0,>=0.12.31->llama-index) (6.4.3)\n",
      "Requirement already satisfied: propcache>=0.2.0 in /Users/josereyes/Dev/poc-modal/.venv/lib/python3.12/site-packages (from aiohttp<4.0.0,>=3.8.6->llama-index-core<0.13.0,>=0.12.31->llama-index) (0.3.1)\n",
      "Requirement already satisfied: yarl<2.0,>=1.17.0 in /Users/josereyes/Dev/poc-modal/.venv/lib/python3.12/site-packages (from aiohttp<4.0.0,>=3.8.6->llama-index-core<0.13.0,>=0.12.31->llama-index) (1.20.0)\n",
      "Requirement already satisfied: idna>=2.8 in /Users/josereyes/Dev/poc-modal/.venv/lib/python3.12/site-packages (from anyio<5.0.0,>=4.8.0->google-genai>=1.4.0->llama-index-llms-google-genai) (3.10)\n",
      "Requirement already satisfied: sniffio>=1.1 in /Users/josereyes/Dev/poc-modal/.venv/lib/python3.12/site-packages (from anyio<5.0.0,>=4.8.0->google-genai>=1.4.0->llama-index-llms-google-genai) (1.3.1)\n",
      "Requirement already satisfied: griffe in /Users/josereyes/Dev/poc-modal/.venv/lib/python3.12/site-packages (from banks<3.0.0,>=2.0.0->llama-index-core<0.13.0,>=0.12.31->llama-index) (1.7.2)\n",
      "Requirement already satisfied: jinja2 in /Users/josereyes/Dev/poc-modal/.venv/lib/python3.12/site-packages (from banks<3.0.0,>=2.0.0->llama-index-core<0.13.0,>=0.12.31->llama-index) (3.1.6)\n",
      "Requirement already satisfied: platformdirs in /Users/josereyes/Dev/poc-modal/.venv/lib/python3.12/site-packages (from banks<3.0.0,>=2.0.0->llama-index-core<0.13.0,>=0.12.31->llama-index) (4.3.7)\n",
      "Requirement already satisfied: httplib2<1.0.0,>=0.19.0 in /Users/josereyes/Dev/poc-modal/.venv/lib/python3.12/site-packages (from google-api-python-client->google-generativeai) (0.22.0)\n",
      "Requirement already satisfied: google-auth-httplib2<1.0.0,>=0.2.0 in /Users/josereyes/Dev/poc-modal/.venv/lib/python3.12/site-packages (from google-api-python-client->google-generativeai) (0.2.0)\n",
      "Requirement already satisfied: uritemplate<5,>=3.0.1 in /Users/josereyes/Dev/poc-modal/.venv/lib/python3.12/site-packages (from google-api-python-client->google-generativeai) (4.1.1)\n",
      "Requirement already satisfied: python-dateutil>=2.8.2 in /Users/josereyes/Dev/poc-modal/.venv/lib/python3.12/site-packages (from pandas->llama-index-readers-file) (2.9.0.post0)\n",
      "Requirement already satisfied: pytz>=2020.1 in /Users/josereyes/Dev/poc-modal/.venv/lib/python3.12/site-packages (from pandas->llama-index-readers-file) (2025.2)\n",
      "Requirement already satisfied: tzdata>=2022.7 in /Users/josereyes/Dev/poc-modal/.venv/lib/python3.12/site-packages (from pandas->llama-index-readers-file) (2025.2)\n",
      "Requirement already satisfied: aiohappyeyeballs>=2.3.0 in /Users/josereyes/Dev/poc-modal/.venv/lib/python3.12/site-packages (from aiohttp<4.0.0,>=3.8.6->llama-index-core<0.13.0,>=0.12.31->llama-index) (2.6.1)\n",
      "Requirement already satisfied: aiosignal>=1.1.2 in /Users/josereyes/Dev/poc-modal/.venv/lib/python3.12/site-packages (from aiohttp<4.0.0,>=3.8.6->llama-index-core<0.13.0,>=0.12.31->llama-index) (1.3.2)\n",
      "Requirement already satisfied: attrs>=17.3.0 in /Users/josereyes/Dev/poc-modal/.venv/lib/python3.12/site-packages (from aiohttp<4.0.0,>=3.8.6->llama-index-core<0.13.0,>=0.12.31->llama-index) (25.3.0)\n",
      "Requirement already satisfied: frozenlist>=1.1.1 in /Users/josereyes/Dev/poc-modal/.venv/lib/python3.12/site-packages (from aiohttp<4.0.0,>=3.8.6->llama-index-core<0.13.0,>=0.12.31->llama-index) (1.6.0)\n",
      "Requirement already satisfied: multidict<7.0,>=4.5 in /Users/josereyes/Dev/poc-modal/.venv/lib/python3.12/site-packages (from aiohttp<4.0.0,>=3.8.6->llama-index-core<0.13.0,>=0.12.31->llama-index) (6.4.3)\n",
      "Requirement already satisfied: propcache>=0.2.0 in /Users/josereyes/Dev/poc-modal/.venv/lib/python3.12/site-packages (from aiohttp<4.0.0,>=3.8.6->llama-index-core<0.13.0,>=0.12.31->llama-index) (0.3.1)\n",
      "Requirement already satisfied: yarl<2.0,>=1.17.0 in /Users/josereyes/Dev/poc-modal/.venv/lib/python3.12/site-packages (from aiohttp<4.0.0,>=3.8.6->llama-index-core<0.13.0,>=0.12.31->llama-index) (1.20.0)\n",
      "Requirement already satisfied: idna>=2.8 in /Users/josereyes/Dev/poc-modal/.venv/lib/python3.12/site-packages (from anyio<5.0.0,>=4.8.0->google-genai>=1.4.0->llama-index-llms-google-genai) (3.10)\n",
      "Requirement already satisfied: sniffio>=1.1 in /Users/josereyes/Dev/poc-modal/.venv/lib/python3.12/site-packages (from anyio<5.0.0,>=4.8.0->google-genai>=1.4.0->llama-index-llms-google-genai) (1.3.1)\n",
      "Requirement already satisfied: griffe in /Users/josereyes/Dev/poc-modal/.venv/lib/python3.12/site-packages (from banks<3.0.0,>=2.0.0->llama-index-core<0.13.0,>=0.12.31->llama-index) (1.7.2)\n",
      "Requirement already satisfied: jinja2 in /Users/josereyes/Dev/poc-modal/.venv/lib/python3.12/site-packages (from banks<3.0.0,>=2.0.0->llama-index-core<0.13.0,>=0.12.31->llama-index) (3.1.6)\n",
      "Requirement already satisfied: platformdirs in /Users/josereyes/Dev/poc-modal/.venv/lib/python3.12/site-packages (from banks<3.0.0,>=2.0.0->llama-index-core<0.13.0,>=0.12.31->llama-index) (4.3.7)\n",
      "Requirement already satisfied: grpcio<2.0dev,>=1.33.2 in /Users/josereyes/Dev/poc-modal/.venv/lib/python3.12/site-packages (from google-api-core[grpc]!=2.0.*,!=2.1.*,!=2.10.*,!=2.2.*,!=2.3.*,!=2.4.*,!=2.5.*,!=2.6.*,!=2.7.*,!=2.8.*,!=2.9.*,<3.0.0dev,>=1.34.1->google-ai-generativelanguage==0.6.15->google-generativeai) (1.71.0)\n",
      "Requirement already satisfied: grpcio-status<2.0.dev0,>=1.33.2 in /Users/josereyes/Dev/poc-modal/.venv/lib/python3.12/site-packages (from google-api-core[grpc]!=2.0.*,!=2.1.*,!=2.10.*,!=2.2.*,!=2.3.*,!=2.4.*,!=2.5.*,!=2.6.*,!=2.7.*,!=2.8.*,!=2.9.*,<3.0.0dev,>=1.34.1->google-ai-generativelanguage==0.6.15->google-generativeai) (1.71.0)\n",
      "Requirement already satisfied: pyparsing!=3.0.0,!=3.0.1,!=3.0.2,!=3.0.3,<4,>=2.4.2 in /Users/josereyes/Dev/poc-modal/.venv/lib/python3.12/site-packages (from httplib2<1.0.0,>=0.19.0->google-api-python-client->google-generativeai) (3.2.3)\n",
      "Requirement already satisfied: certifi in /Users/josereyes/Dev/poc-modal/.venv/lib/python3.12/site-packages (from httpx<1.0.0,>=0.28.1->google-genai>=1.4.0->llama-index-llms-google-genai) (2025.1.31)\n",
      "Requirement already satisfied: httpcore==1.* in /Users/josereyes/Dev/poc-modal/.venv/lib/python3.12/site-packages (from httpx<1.0.0,>=0.28.1->google-genai>=1.4.0->llama-index-llms-google-genai) (1.0.8)\n",
      "Requirement already satisfied: h11<0.15,>=0.13 in /Users/josereyes/Dev/poc-modal/.venv/lib/python3.12/site-packages (from httpcore==1.*->httpx<1.0.0,>=0.28.1->google-genai>=1.4.0->llama-index-llms-google-genai) (0.14.0)\n",
      "Requirement already satisfied: llama-cloud-services>=0.6.12 in /Users/josereyes/Dev/poc-modal/.venv/lib/python3.12/site-packages (from llama-parse>=0.5.0->llama-index-readers-llama-parse>=0.4.0->llama-index) (0.6.12)\n",
      "Requirement already satisfied: distro<2,>=1.7.0 in /Users/josereyes/Dev/poc-modal/.venv/lib/python3.12/site-packages (from openai>=1.14.0->llama-index-agent-openai<0.5.0,>=0.4.0->llama-index) (1.9.0)\n",
      "Requirement already satisfied: grpcio<2.0dev,>=1.33.2 in /Users/josereyes/Dev/poc-modal/.venv/lib/python3.12/site-packages (from google-api-core[grpc]!=2.0.*,!=2.1.*,!=2.10.*,!=2.2.*,!=2.3.*,!=2.4.*,!=2.5.*,!=2.6.*,!=2.7.*,!=2.8.*,!=2.9.*,<3.0.0dev,>=1.34.1->google-ai-generativelanguage==0.6.15->google-generativeai) (1.71.0)\n",
      "Requirement already satisfied: grpcio-status<2.0.dev0,>=1.33.2 in /Users/josereyes/Dev/poc-modal/.venv/lib/python3.12/site-packages (from google-api-core[grpc]!=2.0.*,!=2.1.*,!=2.10.*,!=2.2.*,!=2.3.*,!=2.4.*,!=2.5.*,!=2.6.*,!=2.7.*,!=2.8.*,!=2.9.*,<3.0.0dev,>=1.34.1->google-ai-generativelanguage==0.6.15->google-generativeai) (1.71.0)\n",
      "Requirement already satisfied: pyparsing!=3.0.0,!=3.0.1,!=3.0.2,!=3.0.3,<4,>=2.4.2 in /Users/josereyes/Dev/poc-modal/.venv/lib/python3.12/site-packages (from httplib2<1.0.0,>=0.19.0->google-api-python-client->google-generativeai) (3.2.3)\n",
      "Requirement already satisfied: certifi in /Users/josereyes/Dev/poc-modal/.venv/lib/python3.12/site-packages (from httpx<1.0.0,>=0.28.1->google-genai>=1.4.0->llama-index-llms-google-genai) (2025.1.31)\n",
      "Requirement already satisfied: httpcore==1.* in /Users/josereyes/Dev/poc-modal/.venv/lib/python3.12/site-packages (from httpx<1.0.0,>=0.28.1->google-genai>=1.4.0->llama-index-llms-google-genai) (1.0.8)\n",
      "Requirement already satisfied: h11<0.15,>=0.13 in /Users/josereyes/Dev/poc-modal/.venv/lib/python3.12/site-packages (from httpcore==1.*->httpx<1.0.0,>=0.28.1->google-genai>=1.4.0->llama-index-llms-google-genai) (0.14.0)\n",
      "Requirement already satisfied: llama-cloud-services>=0.6.12 in /Users/josereyes/Dev/poc-modal/.venv/lib/python3.12/site-packages (from llama-parse>=0.5.0->llama-index-readers-llama-parse>=0.4.0->llama-index) (0.6.12)\n",
      "Requirement already satisfied: distro<2,>=1.7.0 in /Users/josereyes/Dev/poc-modal/.venv/lib/python3.12/site-packages (from openai>=1.14.0->llama-index-agent-openai<0.5.0,>=0.4.0->llama-index) (1.9.0)\n",
      "Requirement already satisfied: jiter<1,>=0.4.0 in /Users/josereyes/Dev/poc-modal/.venv/lib/python3.12/site-packages (from openai>=1.14.0->llama-index-agent-openai<0.5.0,>=0.4.0->llama-index) (0.9.0)\n",
      "Requirement already satisfied: pyasn1<0.7.0,>=0.6.1 in /Users/josereyes/Dev/poc-modal/.venv/lib/python3.12/site-packages (from pyasn1-modules>=0.2.1->google-auth>=2.15.0->google-generativeai) (0.6.1)\n",
      "Requirement already satisfied: six>=1.5 in /Users/josereyes/Dev/poc-modal/.venv/lib/python3.12/site-packages (from python-dateutil>=2.8.2->pandas->llama-index-readers-file) (1.17.0)\n",
      "Requirement already satisfied: charset-normalizer<4,>=2 in /Users/josereyes/Dev/poc-modal/.venv/lib/python3.12/site-packages (from requests<3.0.0,>=2.18.0->google-api-core->google-generativeai) (3.4.1)\n",
      "Requirement already satisfied: urllib3<3,>=1.21.1 in /Users/josereyes/Dev/poc-modal/.venv/lib/python3.12/site-packages (from requests<3.0.0,>=2.18.0->google-api-core->google-generativeai) (2.4.0)\n",
      "Requirement already satisfied: greenlet>=1 in /Users/josereyes/Dev/poc-modal/.venv/lib/python3.12/site-packages (from SQLAlchemy>=1.4.49->SQLAlchemy[asyncio]>=1.4.49->llama-index-core<0.13.0,>=0.12.31->llama-index) (3.2.0)\n",
      "Requirement already satisfied: mypy-extensions>=0.3.0 in /Users/josereyes/Dev/poc-modal/.venv/lib/python3.12/site-packages (from typing-inspect>=0.8.0->llama-index-core<0.13.0,>=0.12.31->llama-index) (1.0.0)\n",
      "Requirement already satisfied: jiter<1,>=0.4.0 in /Users/josereyes/Dev/poc-modal/.venv/lib/python3.12/site-packages (from openai>=1.14.0->llama-index-agent-openai<0.5.0,>=0.4.0->llama-index) (0.9.0)\n",
      "Requirement already satisfied: pyasn1<0.7.0,>=0.6.1 in /Users/josereyes/Dev/poc-modal/.venv/lib/python3.12/site-packages (from pyasn1-modules>=0.2.1->google-auth>=2.15.0->google-generativeai) (0.6.1)\n",
      "Requirement already satisfied: six>=1.5 in /Users/josereyes/Dev/poc-modal/.venv/lib/python3.12/site-packages (from python-dateutil>=2.8.2->pandas->llama-index-readers-file) (1.17.0)\n",
      "Requirement already satisfied: charset-normalizer<4,>=2 in /Users/josereyes/Dev/poc-modal/.venv/lib/python3.12/site-packages (from requests<3.0.0,>=2.18.0->google-api-core->google-generativeai) (3.4.1)\n",
      "Requirement already satisfied: urllib3<3,>=1.21.1 in /Users/josereyes/Dev/poc-modal/.venv/lib/python3.12/site-packages (from requests<3.0.0,>=2.18.0->google-api-core->google-generativeai) (2.4.0)\n",
      "Requirement already satisfied: greenlet>=1 in /Users/josereyes/Dev/poc-modal/.venv/lib/python3.12/site-packages (from SQLAlchemy>=1.4.49->SQLAlchemy[asyncio]>=1.4.49->llama-index-core<0.13.0,>=0.12.31->llama-index) (3.2.0)\n",
      "Requirement already satisfied: mypy-extensions>=0.3.0 in /Users/josereyes/Dev/poc-modal/.venv/lib/python3.12/site-packages (from typing-inspect>=0.8.0->llama-index-core<0.13.0,>=0.12.31->llama-index) (1.0.0)\n",
      "Requirement already satisfied: marshmallow<4.0.0,>=3.18.0 in /Users/josereyes/Dev/poc-modal/.venv/lib/python3.12/site-packages (from dataclasses-json->llama-index-core<0.13.0,>=0.12.31->llama-index) (3.26.1)\n",
      "Requirement already satisfied: marshmallow<4.0.0,>=3.18.0 in /Users/josereyes/Dev/poc-modal/.venv/lib/python3.12/site-packages (from dataclasses-json->llama-index-core<0.13.0,>=0.12.31->llama-index) (3.26.1)\n",
      "Requirement already satisfied: colorama>=0.4 in /Users/josereyes/Dev/poc-modal/.venv/lib/python3.12/site-packages (from griffe->banks<3.0.0,>=2.0.0->llama-index-core<0.13.0,>=0.12.31->llama-index) (0.4.6)\n",
      "Requirement already satisfied: MarkupSafe>=2.0 in /Users/josereyes/Dev/poc-modal/.venv/lib/python3.12/site-packages (from jinja2->banks<3.0.0,>=2.0.0->llama-index-core<0.13.0,>=0.12.31->llama-index) (3.0.2)\n",
      "Requirement already satisfied: colorama>=0.4 in /Users/josereyes/Dev/poc-modal/.venv/lib/python3.12/site-packages (from griffe->banks<3.0.0,>=2.0.0->llama-index-core<0.13.0,>=0.12.31->llama-index) (0.4.6)\n",
      "Requirement already satisfied: MarkupSafe>=2.0 in /Users/josereyes/Dev/poc-modal/.venv/lib/python3.12/site-packages (from jinja2->banks<3.0.0,>=2.0.0->llama-index-core<0.13.0,>=0.12.31->llama-index) (3.0.2)\n"
     ]
    }
   ],
   "source": [
    "# Install required packages\n",
    "! pip install llama-index llama-index-readers-file llama-index-llms-google-genai llama-index-embeddings-google-genai lancedb pypdf python-dotenv google-generativeai"
   ]
  },
  {
   "cell_type": "markdown",
   "id": "bdd1a60d",
   "metadata": {},
   "source": [
    "## Import Libraries\n",
    "\n",
    "Now let's import the necessary libraries for our RAG system."
   ]
  },
  {
   "cell_type": "code",
   "execution_count": 2,
   "id": "e36781bf",
   "metadata": {},
   "outputs": [
    {
     "name": "stderr",
     "output_type": "stream",
     "text": [
      "/Users/josereyes/Dev/poc-modal/.venv/lib/python3.12/site-packages/tqdm/auto.py:21: TqdmWarning: IProgress not found. Please update jupyter and ipywidgets. See https://ipywidgets.readthedocs.io/en/stable/user_install.html\n",
      "  from .autonotebook import tqdm as notebook_tqdm\n"
     ]
    },
    {
     "name": "stdout",
     "output_type": "stream",
     "text": [
      "Google API key loaded successfully from environment variables.\n"
     ]
    }
   ],
   "source": [
    "# Import required libraries\n",
    "import os\n",
    "import lancedb\n",
    "from dotenv import load_dotenv\n",
    "from llama_index.core import SimpleDirectoryReader  # Updated import path\n",
    "from llama_index.core import Settings, VectorStoreIndex, StorageContext  # Core imports\n",
    "from llama_index.vector_stores.lancedb import LanceDBVectorStore\n",
    "from llama_index.llms.google_genai import GoogleGenAI\n",
    "from llama_index.embeddings.google_genai import GoogleGenAIEmbedding\n",
    "from llama_index.core.node_parser import SentenceSplitter  # Updated import path\n",
    "\n",
    "# Load environment variables from .env file\n",
    "load_dotenv()\n",
    "\n",
    "# Set up the Gemini models for LLM and embeddings\n",
    "import google.generativeai as genai\n",
    "\n",
    "# Get API key from environment variables\n",
    "api_key = os.getenv(\"GOOGLE_API_KEY\")\n",
    "if not api_key:\n",
    "    print(\"Warning: GOOGLE_API_KEY not found in environment variables.\")\n",
    "    print(\"Please create a .env file in the project root with your Google API key:\")\n",
    "    print(\"GOOGLE_API_KEY=your-api-key-here\")\n",
    "else:\n",
    "    print(\"Google API key loaded successfully from environment variables.\")\n",
    "    genai.configure(api_key=api_key)\n",
    "\n",
    "    # Set up the LLM using gemini-2.0-flash\n",
    "    llm = GoogleGenAI(model=\"gemini-2.0-flash\", temperature=0.1)\n",
    "\n",
    "    # Set up the embedding model using gemini-embedding-exp\n",
    "    embed_model = GoogleGenAIEmbedding(model_name=\"models/text-embedding-004\", api_key=api_key)\n",
    "\n",
    "    # Configure LlamaIndex to use these models\n",
    "    Settings.llm = llm\n",
    "    Settings.embed_model = embed_model"
   ]
  },
  {
   "cell_type": "markdown",
   "id": "90ab7422",
   "metadata": {},
   "source": [
    "## Load and Process the PDF Document\n",
    "\n",
    "We'll load the jp-handbook-full.pdf document and split it into chunks for better retrieval."
   ]
  },
  {
   "cell_type": "code",
   "execution_count": 3,
   "id": "2e69c01f",
   "metadata": {},
   "outputs": [
    {
     "name": "stdout",
     "output_type": "stream",
     "text": [
      "Loading document: ../jp-handbook-full.pdf\n",
      "Loaded 132 document(s)\n",
      "Loaded 132 document(s)\n"
     ]
    }
   ],
   "source": [
    "# Define the path to the PDF document\n",
    "pdf_path = '../jp-handbook-full.pdf'\n",
    "\n",
    "# Check if the file exists\n",
    "if os.path.exists(pdf_path):\n",
    "    print(f\"Loading document: {pdf_path}\")\n",
    "else:\n",
    "    print(f\"Error: Document not found at {pdf_path}\")\n",
    "\n",
    "# Load the document using SimpleDirectoryReader\n",
    "documents = SimpleDirectoryReader(input_files=[pdf_path]).load_data()\n",
    "print(f\"Loaded {len(documents)} document(s)\")"
   ]
  },
  {
   "cell_type": "markdown",
   "id": "fe8db551",
   "metadata": {},
   "source": [
    "## Parse the Document into Nodes\n",
    "\n",
    "Split the document into smaller chunks for more effective retrieval."
   ]
  },
  {
   "cell_type": "code",
   "execution_count": 4,
   "id": "a9369d15",
   "metadata": {},
   "outputs": [
    {
     "name": "stdout",
     "output_type": "stream",
     "text": [
      "Document split into 132 nodes\n"
     ]
    }
   ],
   "source": [
    "# Create a node parser to split the document into chunks\n",
    "node_parser = SentenceSplitter(chunk_size=1024, chunk_overlap=200)\n",
    "\n",
    "# Parse the document into nodes\n",
    "nodes = node_parser.get_nodes_from_documents(documents)\n",
    "print(f\"Document split into {len(nodes)} nodes\")"
   ]
  },
  {
   "cell_type": "markdown",
   "id": "e63a00a1",
   "metadata": {},
   "source": [
    "## Set Up LanceDB Vector Store\n",
    "\n",
    "Create a LanceDB vector store to efficiently store and retrieve document vectors."
   ]
  },
  {
   "cell_type": "code",
   "execution_count": 5,
   "id": "a27b8aa2",
   "metadata": {},
   "outputs": [
    {
     "ename": "ServerError",
     "evalue": "503 UNAVAILABLE. {'error': {'code': 503, 'message': 'The service is currently unavailable.', 'status': 'UNAVAILABLE'}}",
     "output_type": "error",
     "traceback": [
      "\u001b[31m---------------------------------------------------------------------------\u001b[39m",
      "\u001b[31mServerError\u001b[39m                               Traceback (most recent call last)",
      "\u001b[36mCell\u001b[39m\u001b[36m \u001b[39m\u001b[32mIn[5]\u001b[39m\u001b[32m, line 14\u001b[39m\n\u001b[32m     11\u001b[39m storage_context = StorageContext.from_defaults(vector_store=vector_store)\n\u001b[32m     13\u001b[39m \u001b[38;5;66;03m# Create an index from the nodes\u001b[39;00m\n\u001b[32m---> \u001b[39m\u001b[32m14\u001b[39m index = \u001b[43mVectorStoreIndex\u001b[49m\u001b[43m(\u001b[49m\u001b[43mnodes\u001b[49m\u001b[43m,\u001b[49m\u001b[43m \u001b[49m\u001b[43mstorage_context\u001b[49m\u001b[43m=\u001b[49m\u001b[43mstorage_context\u001b[49m\u001b[43m)\u001b[49m\n\u001b[32m     15\u001b[39m \u001b[38;5;28mprint\u001b[39m(\u001b[33m\"\u001b[39m\u001b[33mVector index created successfully\u001b[39m\u001b[33m\"\u001b[39m)\n",
      "\u001b[36mFile \u001b[39m\u001b[32m~/Dev/poc-modal/.venv/lib/python3.12/site-packages/llama_index/core/indices/vector_store/base.py:76\u001b[39m, in \u001b[36mVectorStoreIndex.__init__\u001b[39m\u001b[34m(self, nodes, use_async, store_nodes_override, embed_model, insert_batch_size, objects, index_struct, storage_context, callback_manager, transformations, show_progress, **kwargs)\u001b[39m\n\u001b[32m     69\u001b[39m \u001b[38;5;28mself\u001b[39m._embed_model = (\n\u001b[32m     70\u001b[39m     resolve_embed_model(embed_model, callback_manager=callback_manager)\n\u001b[32m     71\u001b[39m     \u001b[38;5;28;01mif\u001b[39;00m embed_model\n\u001b[32m     72\u001b[39m     \u001b[38;5;28;01melse\u001b[39;00m Settings.embed_model\n\u001b[32m     73\u001b[39m )\n\u001b[32m     75\u001b[39m \u001b[38;5;28mself\u001b[39m._insert_batch_size = insert_batch_size\n\u001b[32m---> \u001b[39m\u001b[32m76\u001b[39m \u001b[38;5;28;43msuper\u001b[39;49m\u001b[43m(\u001b[49m\u001b[43m)\u001b[49m\u001b[43m.\u001b[49m\u001b[34;43m__init__\u001b[39;49m\u001b[43m(\u001b[49m\n\u001b[32m     77\u001b[39m \u001b[43m    \u001b[49m\u001b[43mnodes\u001b[49m\u001b[43m=\u001b[49m\u001b[43mnodes\u001b[49m\u001b[43m,\u001b[49m\n\u001b[32m     78\u001b[39m \u001b[43m    \u001b[49m\u001b[43mindex_struct\u001b[49m\u001b[43m=\u001b[49m\u001b[43mindex_struct\u001b[49m\u001b[43m,\u001b[49m\n\u001b[32m     79\u001b[39m \u001b[43m    \u001b[49m\u001b[43mstorage_context\u001b[49m\u001b[43m=\u001b[49m\u001b[43mstorage_context\u001b[49m\u001b[43m,\u001b[49m\n\u001b[32m     80\u001b[39m \u001b[43m    \u001b[49m\u001b[43mshow_progress\u001b[49m\u001b[43m=\u001b[49m\u001b[43mshow_progress\u001b[49m\u001b[43m,\u001b[49m\n\u001b[32m     81\u001b[39m \u001b[43m    \u001b[49m\u001b[43mobjects\u001b[49m\u001b[43m=\u001b[49m\u001b[43mobjects\u001b[49m\u001b[43m,\u001b[49m\n\u001b[32m     82\u001b[39m \u001b[43m    \u001b[49m\u001b[43mcallback_manager\u001b[49m\u001b[43m=\u001b[49m\u001b[43mcallback_manager\u001b[49m\u001b[43m,\u001b[49m\n\u001b[32m     83\u001b[39m \u001b[43m    \u001b[49m\u001b[43mtransformations\u001b[49m\u001b[43m=\u001b[49m\u001b[43mtransformations\u001b[49m\u001b[43m,\u001b[49m\n\u001b[32m     84\u001b[39m \u001b[43m    \u001b[49m\u001b[43m*\u001b[49m\u001b[43m*\u001b[49m\u001b[43mkwargs\u001b[49m\u001b[43m,\u001b[49m\n\u001b[32m     85\u001b[39m \u001b[43m\u001b[49m\u001b[43m)\u001b[49m\n",
      "\u001b[36mFile \u001b[39m\u001b[32m~/Dev/poc-modal/.venv/lib/python3.12/site-packages/llama_index/core/indices/base.py:77\u001b[39m, in \u001b[36mBaseIndex.__init__\u001b[39m\u001b[34m(self, nodes, objects, index_struct, storage_context, callback_manager, transformations, show_progress, **kwargs)\u001b[39m\n\u001b[32m     75\u001b[39m \u001b[38;5;28;01mif\u001b[39;00m index_struct \u001b[38;5;129;01mis\u001b[39;00m \u001b[38;5;28;01mNone\u001b[39;00m:\n\u001b[32m     76\u001b[39m     nodes = nodes \u001b[38;5;129;01mor\u001b[39;00m []\n\u001b[32m---> \u001b[39m\u001b[32m77\u001b[39m     index_struct = \u001b[38;5;28;43mself\u001b[39;49m\u001b[43m.\u001b[49m\u001b[43mbuild_index_from_nodes\u001b[49m\u001b[43m(\u001b[49m\n\u001b[32m     78\u001b[39m \u001b[43m        \u001b[49m\u001b[43mnodes\u001b[49m\u001b[43m \u001b[49m\u001b[43m+\u001b[49m\u001b[43m \u001b[49m\u001b[43mobjects\u001b[49m\u001b[43m,\u001b[49m\u001b[43m  \u001b[49m\u001b[38;5;66;43;03m# type: ignore\u001b[39;49;00m\n\u001b[32m     79\u001b[39m \u001b[43m        \u001b[49m\u001b[43m*\u001b[49m\u001b[43m*\u001b[49m\u001b[43mkwargs\u001b[49m\u001b[43m,\u001b[49m\u001b[43m  \u001b[49m\u001b[38;5;66;43;03m# type: ignore\u001b[39;49;00m\n\u001b[32m     80\u001b[39m \u001b[43m    \u001b[49m\u001b[43m)\u001b[49m\n\u001b[32m     81\u001b[39m \u001b[38;5;28mself\u001b[39m._index_struct = index_struct\n\u001b[32m     82\u001b[39m \u001b[38;5;28mself\u001b[39m._storage_context.index_store.add_index_struct(\u001b[38;5;28mself\u001b[39m._index_struct)\n",
      "\u001b[36mFile \u001b[39m\u001b[32m~/Dev/poc-modal/.venv/lib/python3.12/site-packages/llama_index/core/indices/vector_store/base.py:310\u001b[39m, in \u001b[36mVectorStoreIndex.build_index_from_nodes\u001b[39m\u001b[34m(self, nodes, **insert_kwargs)\u001b[39m\n\u001b[32m    307\u001b[39m \u001b[38;5;28;01mif\u001b[39;00m \u001b[38;5;28mlen\u001b[39m(content_nodes) != \u001b[38;5;28mlen\u001b[39m(nodes):\n\u001b[32m    308\u001b[39m     \u001b[38;5;28mprint\u001b[39m(\u001b[33m\"\u001b[39m\u001b[33mSome nodes are missing content, skipping them...\u001b[39m\u001b[33m\"\u001b[39m)\n\u001b[32m--> \u001b[39m\u001b[32m310\u001b[39m \u001b[38;5;28;01mreturn\u001b[39;00m \u001b[38;5;28;43mself\u001b[39;49m\u001b[43m.\u001b[49m\u001b[43m_build_index_from_nodes\u001b[49m\u001b[43m(\u001b[49m\u001b[43mcontent_nodes\u001b[49m\u001b[43m,\u001b[49m\u001b[43m \u001b[49m\u001b[43m*\u001b[49m\u001b[43m*\u001b[49m\u001b[43minsert_kwargs\u001b[49m\u001b[43m)\u001b[49m\n",
      "\u001b[36mFile \u001b[39m\u001b[32m~/Dev/poc-modal/.venv/lib/python3.12/site-packages/llama_index/core/indices/vector_store/base.py:279\u001b[39m, in \u001b[36mVectorStoreIndex._build_index_from_nodes\u001b[39m\u001b[34m(self, nodes, **insert_kwargs)\u001b[39m\n\u001b[32m    277\u001b[39m     run_async_tasks(tasks)\n\u001b[32m    278\u001b[39m \u001b[38;5;28;01melse\u001b[39;00m:\n\u001b[32m--> \u001b[39m\u001b[32m279\u001b[39m     \u001b[38;5;28;43mself\u001b[39;49m\u001b[43m.\u001b[49m\u001b[43m_add_nodes_to_index\u001b[49m\u001b[43m(\u001b[49m\n\u001b[32m    280\u001b[39m \u001b[43m        \u001b[49m\u001b[43mindex_struct\u001b[49m\u001b[43m,\u001b[49m\n\u001b[32m    281\u001b[39m \u001b[43m        \u001b[49m\u001b[43mnodes\u001b[49m\u001b[43m,\u001b[49m\n\u001b[32m    282\u001b[39m \u001b[43m        \u001b[49m\u001b[43mshow_progress\u001b[49m\u001b[43m=\u001b[49m\u001b[38;5;28;43mself\u001b[39;49m\u001b[43m.\u001b[49m\u001b[43m_show_progress\u001b[49m\u001b[43m,\u001b[49m\n\u001b[32m    283\u001b[39m \u001b[43m        \u001b[49m\u001b[43m*\u001b[49m\u001b[43m*\u001b[49m\u001b[43minsert_kwargs\u001b[49m\u001b[43m,\u001b[49m\n\u001b[32m    284\u001b[39m \u001b[43m    \u001b[49m\u001b[43m)\u001b[49m\n\u001b[32m    285\u001b[39m \u001b[38;5;28;01mreturn\u001b[39;00m index_struct\n",
      "\u001b[36mFile \u001b[39m\u001b[32m~/Dev/poc-modal/.venv/lib/python3.12/site-packages/llama_index/core/indices/vector_store/base.py:232\u001b[39m, in \u001b[36mVectorStoreIndex._add_nodes_to_index\u001b[39m\u001b[34m(self, index_struct, nodes, show_progress, **insert_kwargs)\u001b[39m\n\u001b[32m    229\u001b[39m     \u001b[38;5;28;01mreturn\u001b[39;00m\n\u001b[32m    231\u001b[39m \u001b[38;5;28;01mfor\u001b[39;00m nodes_batch \u001b[38;5;129;01min\u001b[39;00m iter_batch(nodes, \u001b[38;5;28mself\u001b[39m._insert_batch_size):\n\u001b[32m--> \u001b[39m\u001b[32m232\u001b[39m     nodes_batch = \u001b[38;5;28;43mself\u001b[39;49m\u001b[43m.\u001b[49m\u001b[43m_get_node_with_embedding\u001b[49m\u001b[43m(\u001b[49m\u001b[43mnodes_batch\u001b[49m\u001b[43m,\u001b[49m\u001b[43m \u001b[49m\u001b[43mshow_progress\u001b[49m\u001b[43m)\u001b[49m\n\u001b[32m    233\u001b[39m     new_ids = \u001b[38;5;28mself\u001b[39m._vector_store.add(nodes_batch, **insert_kwargs)\n\u001b[32m    235\u001b[39m     \u001b[38;5;28;01mif\u001b[39;00m \u001b[38;5;129;01mnot\u001b[39;00m \u001b[38;5;28mself\u001b[39m._vector_store.stores_text \u001b[38;5;129;01mor\u001b[39;00m \u001b[38;5;28mself\u001b[39m._store_nodes_override:\n\u001b[32m    236\u001b[39m         \u001b[38;5;66;03m# NOTE: if the vector store doesn't store text,\u001b[39;00m\n\u001b[32m    237\u001b[39m         \u001b[38;5;66;03m# we need to add the nodes to the index struct and document store\u001b[39;00m\n",
      "\u001b[36mFile \u001b[39m\u001b[32m~/Dev/poc-modal/.venv/lib/python3.12/site-packages/llama_index/core/indices/vector_store/base.py:139\u001b[39m, in \u001b[36mVectorStoreIndex._get_node_with_embedding\u001b[39m\u001b[34m(self, nodes, show_progress)\u001b[39m\n\u001b[32m    127\u001b[39m \u001b[38;5;28;01mdef\u001b[39;00m\u001b[38;5;250m \u001b[39m\u001b[34m_get_node_with_embedding\u001b[39m(\n\u001b[32m    128\u001b[39m     \u001b[38;5;28mself\u001b[39m,\n\u001b[32m    129\u001b[39m     nodes: Sequence[BaseNode],\n\u001b[32m    130\u001b[39m     show_progress: \u001b[38;5;28mbool\u001b[39m = \u001b[38;5;28;01mFalse\u001b[39;00m,\n\u001b[32m    131\u001b[39m ) -> List[BaseNode]:\n\u001b[32m    132\u001b[39m \u001b[38;5;250m    \u001b[39m\u001b[33;03m\"\"\"\u001b[39;00m\n\u001b[32m    133\u001b[39m \u001b[33;03m    Get tuples of id, node, and embedding.\u001b[39;00m\n\u001b[32m    134\u001b[39m \n\u001b[32m   (...)\u001b[39m\u001b[32m    137\u001b[39m \n\u001b[32m    138\u001b[39m \u001b[33;03m    \"\"\"\u001b[39;00m\n\u001b[32m--> \u001b[39m\u001b[32m139\u001b[39m     id_to_embed_map = \u001b[43membed_nodes\u001b[49m\u001b[43m(\u001b[49m\n\u001b[32m    140\u001b[39m \u001b[43m        \u001b[49m\u001b[43mnodes\u001b[49m\u001b[43m,\u001b[49m\u001b[43m \u001b[49m\u001b[38;5;28;43mself\u001b[39;49m\u001b[43m.\u001b[49m\u001b[43m_embed_model\u001b[49m\u001b[43m,\u001b[49m\u001b[43m \u001b[49m\u001b[43mshow_progress\u001b[49m\u001b[43m=\u001b[49m\u001b[43mshow_progress\u001b[49m\n\u001b[32m    141\u001b[39m \u001b[43m    \u001b[49m\u001b[43m)\u001b[49m\n\u001b[32m    143\u001b[39m     results = []\n\u001b[32m    144\u001b[39m     \u001b[38;5;28;01mfor\u001b[39;00m node \u001b[38;5;129;01min\u001b[39;00m nodes:\n",
      "\u001b[36mFile \u001b[39m\u001b[32m~/Dev/poc-modal/.venv/lib/python3.12/site-packages/llama_index/core/indices/utils.py:160\u001b[39m, in \u001b[36membed_nodes\u001b[39m\u001b[34m(nodes, embed_model, show_progress)\u001b[39m\n\u001b[32m    157\u001b[39m     \u001b[38;5;28;01melse\u001b[39;00m:\n\u001b[32m    158\u001b[39m         id_to_embed_map[node.node_id] = node.embedding\n\u001b[32m--> \u001b[39m\u001b[32m160\u001b[39m new_embeddings = \u001b[43membed_model\u001b[49m\u001b[43m.\u001b[49m\u001b[43mget_text_embedding_batch\u001b[49m\u001b[43m(\u001b[49m\n\u001b[32m    161\u001b[39m \u001b[43m    \u001b[49m\u001b[43mtexts_to_embed\u001b[49m\u001b[43m,\u001b[49m\u001b[43m \u001b[49m\u001b[43mshow_progress\u001b[49m\u001b[43m=\u001b[49m\u001b[43mshow_progress\u001b[49m\n\u001b[32m    162\u001b[39m \u001b[43m\u001b[49m\u001b[43m)\u001b[49m\n\u001b[32m    164\u001b[39m \u001b[38;5;28;01mfor\u001b[39;00m new_id, text_embedding \u001b[38;5;129;01min\u001b[39;00m \u001b[38;5;28mzip\u001b[39m(ids_to_embed, new_embeddings):\n\u001b[32m    165\u001b[39m     id_to_embed_map[new_id] = text_embedding\n",
      "\u001b[36mFile \u001b[39m\u001b[32m~/Dev/poc-modal/.venv/lib/python3.12/site-packages/llama_index/core/instrumentation/dispatcher.py:322\u001b[39m, in \u001b[36mDispatcher.span.<locals>.wrapper\u001b[39m\u001b[34m(func, instance, args, kwargs)\u001b[39m\n\u001b[32m    319\u001b[39m             _logger.debug(\u001b[33mf\u001b[39m\u001b[33m\"\u001b[39m\u001b[33mFailed to reset active_span_id: \u001b[39m\u001b[38;5;132;01m{\u001b[39;00me\u001b[38;5;132;01m}\u001b[39;00m\u001b[33m\"\u001b[39m)\n\u001b[32m    321\u001b[39m \u001b[38;5;28;01mtry\u001b[39;00m:\n\u001b[32m--> \u001b[39m\u001b[32m322\u001b[39m     result = \u001b[43mfunc\u001b[49m\u001b[43m(\u001b[49m\u001b[43m*\u001b[49m\u001b[43margs\u001b[49m\u001b[43m,\u001b[49m\u001b[43m \u001b[49m\u001b[43m*\u001b[49m\u001b[43m*\u001b[49m\u001b[43mkwargs\u001b[49m\u001b[43m)\u001b[49m\n\u001b[32m    323\u001b[39m     \u001b[38;5;28;01mif\u001b[39;00m \u001b[38;5;28misinstance\u001b[39m(result, asyncio.Future):\n\u001b[32m    324\u001b[39m         \u001b[38;5;66;03m# If the result is a Future, wrap it\u001b[39;00m\n\u001b[32m    325\u001b[39m         new_future = asyncio.ensure_future(result)\n",
      "\u001b[36mFile \u001b[39m\u001b[32m~/Dev/poc-modal/.venv/lib/python3.12/site-packages/llama_index/core/base/embeddings/base.py:335\u001b[39m, in \u001b[36mBaseEmbedding.get_text_embedding_batch\u001b[39m\u001b[34m(self, texts, show_progress, **kwargs)\u001b[39m\n\u001b[32m    326\u001b[39m dispatcher.event(\n\u001b[32m    327\u001b[39m     EmbeddingStartEvent(\n\u001b[32m    328\u001b[39m         model_dict=model_dict,\n\u001b[32m    329\u001b[39m     )\n\u001b[32m    330\u001b[39m )\n\u001b[32m    331\u001b[39m \u001b[38;5;28;01mwith\u001b[39;00m \u001b[38;5;28mself\u001b[39m.callback_manager.event(\n\u001b[32m    332\u001b[39m     CBEventType.EMBEDDING,\n\u001b[32m    333\u001b[39m     payload={EventPayload.SERIALIZED: \u001b[38;5;28mself\u001b[39m.to_dict()},\n\u001b[32m    334\u001b[39m ) \u001b[38;5;28;01mas\u001b[39;00m event:\n\u001b[32m--> \u001b[39m\u001b[32m335\u001b[39m     embeddings = \u001b[38;5;28;43mself\u001b[39;49m\u001b[43m.\u001b[49m\u001b[43m_get_text_embeddings\u001b[49m\u001b[43m(\u001b[49m\u001b[43mcur_batch\u001b[49m\u001b[43m)\u001b[49m\n\u001b[32m    336\u001b[39m     result_embeddings.extend(embeddings)\n\u001b[32m    337\u001b[39m     event.on_end(\n\u001b[32m    338\u001b[39m         payload={\n\u001b[32m    339\u001b[39m             EventPayload.CHUNKS: cur_batch,\n\u001b[32m    340\u001b[39m             EventPayload.EMBEDDINGS: embeddings,\n\u001b[32m    341\u001b[39m         },\n\u001b[32m    342\u001b[39m     )\n",
      "\u001b[36mFile \u001b[39m\u001b[32m~/Dev/poc-modal/.venv/lib/python3.12/site-packages/llama_index/embeddings/google_genai/base.py:154\u001b[39m, in \u001b[36mGoogleGenAIEmbedding._get_text_embeddings\u001b[39m\u001b[34m(self, texts)\u001b[39m\n\u001b[32m    152\u001b[39m \u001b[38;5;28;01mdef\u001b[39;00m\u001b[38;5;250m \u001b[39m\u001b[34m_get_text_embeddings\u001b[39m(\u001b[38;5;28mself\u001b[39m, texts: List[\u001b[38;5;28mstr\u001b[39m]) -> List[List[\u001b[38;5;28mfloat\u001b[39m]]:\n\u001b[32m    153\u001b[39m \u001b[38;5;250m    \u001b[39m\u001b[33;03m\"\"\"Get text embeddings.\"\"\"\u001b[39;00m\n\u001b[32m--> \u001b[39m\u001b[32m154\u001b[39m     \u001b[38;5;28;01mreturn\u001b[39;00m \u001b[38;5;28;43mself\u001b[39;49m\u001b[43m.\u001b[49m\u001b[43m_embed_texts\u001b[49m\u001b[43m(\u001b[49m\u001b[43mtexts\u001b[49m\u001b[43m,\u001b[49m\u001b[43m \u001b[49m\u001b[43mtask_type\u001b[49m\u001b[43m=\u001b[49m\u001b[33;43m\"\u001b[39;49m\u001b[33;43mRETRIEVAL_DOCUMENT\u001b[39;49m\u001b[33;43m\"\u001b[39;49m\u001b[43m)\u001b[49m\n",
      "\u001b[36mFile \u001b[39m\u001b[32m~/Dev/poc-modal/.venv/lib/python3.12/site-packages/llama_index/embeddings/google_genai/base.py:122\u001b[39m, in \u001b[36mGoogleGenAIEmbedding._embed_texts\u001b[39m\u001b[34m(self, texts, task_type)\u001b[39m\n\u001b[32m    119\u001b[39m \u001b[38;5;28;01mif\u001b[39;00m task_type \u001b[38;5;129;01mand\u001b[39;00m \u001b[38;5;129;01mnot\u001b[39;00m \u001b[38;5;28mself\u001b[39m.embedding_config:\n\u001b[32m    120\u001b[39m     \u001b[38;5;28mself\u001b[39m.embedding_config = types.EmbedContentConfig(task_type=task_type)\n\u001b[32m--> \u001b[39m\u001b[32m122\u001b[39m results = \u001b[38;5;28;43mself\u001b[39;49m\u001b[43m.\u001b[49m\u001b[43m_client\u001b[49m\u001b[43m.\u001b[49m\u001b[43mmodels\u001b[49m\u001b[43m.\u001b[49m\u001b[43membed_content\u001b[49m\u001b[43m(\u001b[49m\n\u001b[32m    123\u001b[39m \u001b[43m    \u001b[49m\u001b[43mmodel\u001b[49m\u001b[43m=\u001b[49m\u001b[38;5;28;43mself\u001b[39;49m\u001b[43m.\u001b[49m\u001b[43mmodel_name\u001b[49m\u001b[43m,\u001b[49m\n\u001b[32m    124\u001b[39m \u001b[43m    \u001b[49m\u001b[43mcontents\u001b[49m\u001b[43m=\u001b[49m\u001b[43mtexts\u001b[49m\u001b[43m,\u001b[49m\n\u001b[32m    125\u001b[39m \u001b[43m    \u001b[49m\u001b[43mconfig\u001b[49m\u001b[43m=\u001b[49m\u001b[38;5;28;43mself\u001b[39;49m\u001b[43m.\u001b[49m\u001b[43membedding_config\u001b[49m\u001b[43m,\u001b[49m\n\u001b[32m    126\u001b[39m \u001b[43m\u001b[49m\u001b[43m)\u001b[49m\n\u001b[32m    127\u001b[39m \u001b[38;5;28;01mreturn\u001b[39;00m [result.values \u001b[38;5;28;01mfor\u001b[39;00m result \u001b[38;5;129;01min\u001b[39;00m results.embeddings]\n",
      "\u001b[36mFile \u001b[39m\u001b[32m~/Dev/poc-modal/.venv/lib/python3.12/site-packages/google/genai/models.py:4160\u001b[39m, in \u001b[36mModels.embed_content\u001b[39m\u001b[34m(self, model, contents, config)\u001b[39m\n\u001b[32m   4157\u001b[39m request_dict = _common.convert_to_dict(request_dict)\n\u001b[32m   4158\u001b[39m request_dict = _common.encode_unserializable_types(request_dict)\n\u001b[32m-> \u001b[39m\u001b[32m4160\u001b[39m response_dict = \u001b[38;5;28;43mself\u001b[39;49m\u001b[43m.\u001b[49m\u001b[43m_api_client\u001b[49m\u001b[43m.\u001b[49m\u001b[43mrequest\u001b[49m\u001b[43m(\u001b[49m\n\u001b[32m   4161\u001b[39m \u001b[43m    \u001b[49m\u001b[33;43m'\u001b[39;49m\u001b[33;43mpost\u001b[39;49m\u001b[33;43m'\u001b[39;49m\u001b[43m,\u001b[49m\u001b[43m \u001b[49m\u001b[43mpath\u001b[49m\u001b[43m,\u001b[49m\u001b[43m \u001b[49m\u001b[43mrequest_dict\u001b[49m\u001b[43m,\u001b[49m\u001b[43m \u001b[49m\u001b[43mhttp_options\u001b[49m\n\u001b[32m   4162\u001b[39m \u001b[43m\u001b[49m\u001b[43m)\u001b[49m\n\u001b[32m   4164\u001b[39m \u001b[38;5;28;01mif\u001b[39;00m \u001b[38;5;28mself\u001b[39m._api_client.vertexai:\n\u001b[32m   4165\u001b[39m   response_dict = _EmbedContentResponse_from_vertex(\n\u001b[32m   4166\u001b[39m       \u001b[38;5;28mself\u001b[39m._api_client, response_dict\n\u001b[32m   4167\u001b[39m   )\n",
      "\u001b[36mFile \u001b[39m\u001b[32m~/Dev/poc-modal/.venv/lib/python3.12/site-packages/google/genai/_api_client.py:742\u001b[39m, in \u001b[36mBaseApiClient.request\u001b[39m\u001b[34m(self, http_method, path, request_dict, http_options)\u001b[39m\n\u001b[32m    732\u001b[39m \u001b[38;5;28;01mdef\u001b[39;00m\u001b[38;5;250m \u001b[39m\u001b[34mrequest\u001b[39m(\n\u001b[32m    733\u001b[39m     \u001b[38;5;28mself\u001b[39m,\n\u001b[32m    734\u001b[39m     http_method: \u001b[38;5;28mstr\u001b[39m,\n\u001b[32m   (...)\u001b[39m\u001b[32m    737\u001b[39m     http_options: Optional[HttpOptionsOrDict] = \u001b[38;5;28;01mNone\u001b[39;00m,\n\u001b[32m    738\u001b[39m ):\n\u001b[32m    739\u001b[39m   http_request = \u001b[38;5;28mself\u001b[39m._build_request(\n\u001b[32m    740\u001b[39m       http_method, path, request_dict, http_options\n\u001b[32m    741\u001b[39m   )\n\u001b[32m--> \u001b[39m\u001b[32m742\u001b[39m   response = \u001b[38;5;28;43mself\u001b[39;49m\u001b[43m.\u001b[49m\u001b[43m_request\u001b[49m\u001b[43m(\u001b[49m\u001b[43mhttp_request\u001b[49m\u001b[43m,\u001b[49m\u001b[43m \u001b[49m\u001b[43mstream\u001b[49m\u001b[43m=\u001b[49m\u001b[38;5;28;43;01mFalse\u001b[39;49;00m\u001b[43m)\u001b[49m\n\u001b[32m    743\u001b[39m   json_response = response.json\n\u001b[32m    744\u001b[39m   \u001b[38;5;28;01mif\u001b[39;00m \u001b[38;5;129;01mnot\u001b[39;00m json_response:\n",
      "\u001b[36mFile \u001b[39m\u001b[32m~/Dev/poc-modal/.venv/lib/python3.12/site-packages/google/genai/_api_client.py:671\u001b[39m, in \u001b[36mBaseApiClient._request\u001b[39m\u001b[34m(self, http_request, stream)\u001b[39m\n\u001b[32m    663\u001b[39m \u001b[38;5;28;01melse\u001b[39;00m:\n\u001b[32m    664\u001b[39m   response = \u001b[38;5;28mself\u001b[39m._httpx_client.request(\n\u001b[32m    665\u001b[39m       method=http_request.method,\n\u001b[32m    666\u001b[39m       url=http_request.url,\n\u001b[32m   (...)\u001b[39m\u001b[32m    669\u001b[39m       timeout=http_request.timeout,\n\u001b[32m    670\u001b[39m   )\n\u001b[32m--> \u001b[39m\u001b[32m671\u001b[39m   \u001b[43merrors\u001b[49m\u001b[43m.\u001b[49m\u001b[43mAPIError\u001b[49m\u001b[43m.\u001b[49m\u001b[43mraise_for_response\u001b[49m\u001b[43m(\u001b[49m\u001b[43mresponse\u001b[49m\u001b[43m)\u001b[49m\n\u001b[32m    672\u001b[39m   \u001b[38;5;28;01mreturn\u001b[39;00m HttpResponse(\n\u001b[32m    673\u001b[39m       response.headers, response \u001b[38;5;28;01mif\u001b[39;00m stream \u001b[38;5;28;01melse\u001b[39;00m [response.text]\n\u001b[32m    674\u001b[39m   )\n",
      "\u001b[36mFile \u001b[39m\u001b[32m~/Dev/poc-modal/.venv/lib/python3.12/site-packages/google/genai/errors.py:103\u001b[39m, in \u001b[36mAPIError.raise_for_response\u001b[39m\u001b[34m(cls, response)\u001b[39m\n\u001b[32m    101\u001b[39m   \u001b[38;5;28;01mraise\u001b[39;00m ClientError(status_code, response_json, response)\n\u001b[32m    102\u001b[39m \u001b[38;5;28;01melif\u001b[39;00m \u001b[32m500\u001b[39m <= status_code < \u001b[32m600\u001b[39m:\n\u001b[32m--> \u001b[39m\u001b[32m103\u001b[39m   \u001b[38;5;28;01mraise\u001b[39;00m ServerError(status_code, response_json, response)\n\u001b[32m    104\u001b[39m \u001b[38;5;28;01melse\u001b[39;00m:\n\u001b[32m    105\u001b[39m   \u001b[38;5;28;01mraise\u001b[39;00m \u001b[38;5;28mcls\u001b[39m(status_code, response_json, response)\n",
      "\u001b[31mServerError\u001b[39m: 503 UNAVAILABLE. {'error': {'code': 503, 'message': 'The service is currently unavailable.', 'status': 'UNAVAILABLE'}}"
     ]
    }
   ],
   "source": [
    "# Create LanceDB database and table\n",
    "db = lancedb.connect('./lancedb')\n",
    "table_name = 'jp_handbook'\n",
    "\n",
    "# Remove existing table if it exists\n",
    "if table_name in db.table_names():\n",
    "    db.drop_table(table_name)\n",
    "\n",
    "# Create a new LanceDB vector store\n",
    "vector_store = LanceDBVectorStore(db=db, table_name=table_name)\n",
    "storage_context = StorageContext.from_defaults(vector_store=vector_store)\n",
    "\n",
    "# Create an index from the nodes\n",
    "index = VectorStoreIndex(nodes, storage_context=storage_context)\n",
    "print(\"Vector index created successfully\")"
   ]
  },
  {
   "cell_type": "markdown",
   "id": "71c71d8e",
   "metadata": {},
   "source": [
    "## Create a Query Engine\n",
    "\n",
    "Set up a query engine to answer questions based on the indexed document."
   ]
  },
  {
   "cell_type": "code",
   "execution_count": null,
   "id": "82f3ae61",
   "metadata": {},
   "outputs": [],
   "source": [
    "# Create a query engine\n",
    "query_engine = index.as_query_engine(similarity_top_k=5)\n",
    "print(\"Query engine ready for questions\")"
   ]
  },
  {
   "cell_type": "markdown",
   "id": "30433b67",
   "metadata": {},
   "source": [
    "## Ask Questions\n",
    "\n",
    "Now you can ask questions about the jp-handbook-full.pdf document."
   ]
  },
  {
   "cell_type": "code",
   "execution_count": null,
   "id": "03ba716a",
   "metadata": {},
   "outputs": [],
   "source": [
    "def ask_question(question):\n",
    "    # print(f\"Q: {question}\")\n",
    "    try:\n",
    "        response = query_engine.query(question)\n",
    "        markdown_response = f\"\"\"\n",
    "### Question\n",
    "{question}\n",
    "\n",
    "### Answer\n",
    "{response}\n",
    "\n",
    "### Sources\n",
    "\"\"\"\n",
    "        for i, source_node in enumerate(response.source_nodes):\n",
    "            content_preview = source_node.node.get_content()[:150].replace('\\n', ' ').strip()\n",
    "            markdown_response += f\"{i+1}. {content_preview}...\\n\\n\"\n",
    "            \n",
    "        from IPython.display import Markdown, display\n",
    "        display(Markdown(markdown_response))\n",
    "        return response\n",
    "    except Exception as e:\n",
    "        error_message = f\"\"\"\n",
    "### Question\n",
    "{question}\n",
    "\n",
    "### Error\n",
    "```\n",
    "{str(e)}\n",
    "```\n",
    "\n",
    "If this is a RESOURCE_EXHAUSTED error, you've hit Google API quota limits. Try again later.\n",
    "\"\"\"\n",
    "        from IPython.display import Markdown, display\n",
    "        display(Markdown(error_message))\n",
    "        return None"
   ]
  },
  {
   "cell_type": "code",
   "execution_count": null,
   "id": "92cb7e16",
   "metadata": {},
   "outputs": [],
   "source": [
    "# Example questions - replace with your own questions about the handbook\n",
    "question = \"List the duties and services of a Justice of the Peace.\"\n",
    "response = ask_question(question)"
   ]
  },
  {
   "cell_type": "code",
   "execution_count": null,
   "id": "2732f204",
   "metadata": {},
   "outputs": [],
   "source": [
    "# Try another question\n",
    "question = \"List the procedures for arresting a criminal?\"\n",
    "response = ask_question(question)"
   ]
  },
  {
   "cell_type": "markdown",
   "id": "c1a8edac",
   "metadata": {},
   "source": [
    "## Multiple Q&A\n",
    "\n"
   ]
  },
  {
   "cell_type": "code",
   "execution_count": null,
   "id": "462bc2b5",
   "metadata": {},
   "outputs": [],
   "source": [
    "import time\n",
    "\n",
    "# List of questions to ask about the JP handbook\n",
    "jp_questions = [\n",
    "    \"What are the main responsibilities of a Justice of the Peace?\",\n",
    "    \"What legal documents can a Justice of the Peace certify or witness?\",\n",
    "    \"What is the procedure for handling bail applications?\",\n",
    "    \"What ethical considerations should a Justice of the Peace keep in mind?\",\n",
    "    \"How does a Justice of the Peace handle conflicts of interest?\",\n",
    "    \"What are the requirements to become a Justice of the Peace?\",\n",
    "    \"What are the limitations on a Justice of the Peace's authority?\",\n",
    "    \"How should a Justice of the Peace handle confidentiality issues?\",\n",
    "    \"What training is required for a Justice of the Peace?\",\n",
    "    \"What record-keeping responsibilities does a Justice of the Peace have?\"\n",
    "]\n",
    "\n",
    "# Function to iterate through questions with a delay to avoid rate limiting\n",
    "def ask_multiple_questions(questions_list, delay_seconds=1):\n",
    "    print(f\"Processing {len(questions_list)} questions with {delay_seconds} second delay between each...\\n\")\n",
    "    for i, question in enumerate(questions_list):\n",
    "        ask_question(question)\n",
    "        print(f\"\\nWaiting {delay_seconds} seconds before next question...\")\n",
    "        time.sleep(delay_seconds)\n",
    "    \n",
    "    print(\"All questions processed!\")"
   ]
  },
  {
   "cell_type": "code",
   "execution_count": null,
   "id": "870ea6a1",
   "metadata": {},
   "outputs": [],
   "source": [
    "# Call the function to process all questions\n",
    "# You can set a longer delay if you encounter rate limiting issues\n",
    "response = ask_multiple_questions(jp_questions)\n"
   ]
  },
  {
   "cell_type": "markdown",
   "id": "ea06659a",
   "metadata": {},
   "source": [
    "## Interactive Q&A\n",
    "\n",
    "You can use the cell below to interactively ask questions about the handbook."
   ]
  },
  {
   "cell_type": "code",
   "execution_count": null,
   "id": "346dd566",
   "metadata": {},
   "outputs": [],
   "source": [
    "# Interactive question answering\n",
    "question = input(\"Ask a question about the handbook:\")\n",
    "response = ask_question(question)"
   ]
  },
  {
   "cell_type": "markdown",
   "id": "b70772e0",
   "metadata": {},
   "source": [
    "## Conclusion\n",
    "\n",
    "This RAG system allows you to ask questions about the jp-handbook-full.pdf document and get contextually relevant answers based on the content. Feel free to modify the query parameters or add more advanced features as needed."
   ]
  }
 ],
 "metadata": {
  "kernelspec": {
   "display_name": ".venv",
   "language": "python",
   "name": "python3"
  },
  "language_info": {
   "codemirror_mode": {
    "name": "ipython",
    "version": 3
   },
   "file_extension": ".py",
   "mimetype": "text/x-python",
   "name": "python",
   "nbconvert_exporter": "python",
   "pygments_lexer": "ipython3",
   "version": "3.12.8"
  }
 },
 "nbformat": 4,
 "nbformat_minor": 5
}
